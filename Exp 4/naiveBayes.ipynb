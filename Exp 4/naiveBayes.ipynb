{
 "cells": [
  {
   "cell_type": "code",
   "execution_count": 2,
   "metadata": {},
   "outputs": [],
   "source": [
    "import pandas as pd\n",
    "import numpy as np\n",
    "import matplotlib.pyplot as plt\n",
    "import seaborn as sns"
   ]
  },
  {
   "cell_type": "code",
   "execution_count": 3,
   "metadata": {},
   "outputs": [
    {
     "data": {
      "text/html": [
       "<div>\n",
       "<style scoped>\n",
       "    .dataframe tbody tr th:only-of-type {\n",
       "        vertical-align: middle;\n",
       "    }\n",
       "\n",
       "    .dataframe tbody tr th {\n",
       "        vertical-align: top;\n",
       "    }\n",
       "\n",
       "    .dataframe thead th {\n",
       "        text-align: right;\n",
       "    }\n",
       "</style>\n",
       "<table border=\"1\" class=\"dataframe\">\n",
       "  <thead>\n",
       "    <tr style=\"text-align: right;\">\n",
       "      <th></th>\n",
       "      <th>SepalLengthCm</th>\n",
       "      <th>SepalWidthCm</th>\n",
       "      <th>PetalLengthCm</th>\n",
       "      <th>PetalWidthCm</th>\n",
       "      <th>Species</th>\n",
       "    </tr>\n",
       "  </thead>\n",
       "  <tbody>\n",
       "    <tr>\n",
       "      <th>0</th>\n",
       "      <td>5.1</td>\n",
       "      <td>3.5</td>\n",
       "      <td>1.4</td>\n",
       "      <td>0.2</td>\n",
       "      <td>Iris-setosa</td>\n",
       "    </tr>\n",
       "    <tr>\n",
       "      <th>1</th>\n",
       "      <td>4.9</td>\n",
       "      <td>3.0</td>\n",
       "      <td>1.4</td>\n",
       "      <td>0.2</td>\n",
       "      <td>Iris-setosa</td>\n",
       "    </tr>\n",
       "    <tr>\n",
       "      <th>2</th>\n",
       "      <td>4.7</td>\n",
       "      <td>3.2</td>\n",
       "      <td>1.3</td>\n",
       "      <td>0.2</td>\n",
       "      <td>Iris-setosa</td>\n",
       "    </tr>\n",
       "    <tr>\n",
       "      <th>3</th>\n",
       "      <td>4.6</td>\n",
       "      <td>3.1</td>\n",
       "      <td>1.5</td>\n",
       "      <td>0.2</td>\n",
       "      <td>Iris-setosa</td>\n",
       "    </tr>\n",
       "    <tr>\n",
       "      <th>4</th>\n",
       "      <td>5.0</td>\n",
       "      <td>3.6</td>\n",
       "      <td>1.4</td>\n",
       "      <td>0.2</td>\n",
       "      <td>Iris-setosa</td>\n",
       "    </tr>\n",
       "  </tbody>\n",
       "</table>\n",
       "</div>"
      ],
      "text/plain": [
       "   SepalLengthCm  SepalWidthCm  PetalLengthCm  PetalWidthCm      Species\n",
       "0            5.1           3.5            1.4           0.2  Iris-setosa\n",
       "1            4.9           3.0            1.4           0.2  Iris-setosa\n",
       "2            4.7           3.2            1.3           0.2  Iris-setosa\n",
       "3            4.6           3.1            1.5           0.2  Iris-setosa\n",
       "4            5.0           3.6            1.4           0.2  Iris-setosa"
      ]
     },
     "execution_count": 3,
     "metadata": {},
     "output_type": "execute_result"
    }
   ],
   "source": [
    "df_temp = pd.read_csv('Iris.csv')\n",
    "df_temp = df_temp.drop(columns=['Id'], axis= 1)\n",
    "df_temp.head()"
   ]
  },
  {
   "cell_type": "code",
   "execution_count": 4,
   "metadata": {},
   "outputs": [
    {
     "data": {
      "text/plain": [
       "0"
      ]
     },
     "execution_count": 4,
     "metadata": {},
     "output_type": "execute_result"
    }
   ],
   "source": [
    "df_temp.isnull().sum()\n",
    "df_temp = df_temp.drop_duplicates()\n",
    "df_temp.duplicated().sum()"
   ]
  },
  {
   "cell_type": "code",
   "execution_count": 5,
   "metadata": {},
   "outputs": [
    {
     "name": "stdout",
     "output_type": "stream",
     "text": [
      "<class 'pandas.core.frame.DataFrame'>\n",
      "Int64Index: 147 entries, 0 to 149\n",
      "Data columns (total 5 columns):\n",
      " #   Column         Non-Null Count  Dtype  \n",
      "---  ------         --------------  -----  \n",
      " 0   SepalLengthCm  147 non-null    float64\n",
      " 1   SepalWidthCm   147 non-null    float64\n",
      " 2   PetalLengthCm  147 non-null    float64\n",
      " 3   PetalWidthCm   147 non-null    float64\n",
      " 4   Species        147 non-null    object \n",
      "dtypes: float64(4), object(1)\n",
      "memory usage: 6.9+ KB\n",
      "None\n"
     ]
    },
    {
     "data": {
      "text/plain": [
       "pandas.core.frame.DataFrame"
      ]
     },
     "execution_count": 5,
     "metadata": {},
     "output_type": "execute_result"
    }
   ],
   "source": [
    "print(df_temp.info())\n",
    "df_temp.describe()\n",
    "type(df_temp)"
   ]
  },
  {
   "cell_type": "code",
   "execution_count": 6,
   "metadata": {},
   "outputs": [
    {
     "name": "stdout",
     "output_type": "stream",
     "text": [
      "     SepalLengthCm  SepalWidthCm  PetalLengthCm  PetalWidthCm          Species\n",
      "132            6.4           2.8            5.6           2.2   Iris-virginica\n",
      "5              5.4           3.9            1.7           0.4      Iris-setosa\n",
      "65             6.7           3.1            4.4           1.4  Iris-versicolor\n",
      "29             4.7           3.2            1.6           0.2      Iris-setosa\n",
      "36             5.5           3.5            1.3           0.2      Iris-setosa\n",
      "11             4.8           3.4            1.6           0.2      Iris-setosa\n",
      "112            6.8           3.0            5.5           2.1   Iris-virginica\n",
      "93             5.0           2.3            3.3           1.0  Iris-versicolor\n",
      "88             5.6           3.0            4.1           1.3  Iris-versicolor\n",
      "26             5.0           3.4            1.6           0.4      Iris-setosa\n",
      "12             4.8           3.0            1.4           0.1      Iris-setosa\n",
      "62             6.0           2.2            4.0           1.0  Iris-versicolor\n",
      "129            7.2           3.0            5.8           1.6   Iris-virginica\n",
      "2              4.7           3.2            1.3           0.2      Iris-setosa\n",
      "24             4.8           3.4            1.9           0.2      Iris-setosa\n",
      "144            6.7           3.3            5.7           2.5   Iris-virginica\n",
      "18             5.7           3.8            1.7           0.3      Iris-setosa\n",
      "80             5.5           2.4            3.8           1.1  Iris-versicolor\n",
      "136            6.3           3.4            5.6           2.4   Iris-virginica\n",
      "49             5.0           3.3            1.4           0.2      Iris-setosa\n",
      "25             5.0           3.0            1.6           0.2      Iris-setosa\n",
      "19             5.1           3.8            1.5           0.3      Iris-setosa\n",
      "76             6.8           2.8            4.8           1.4  Iris-versicolor\n",
      "16             5.4           3.9            1.3           0.4      Iris-setosa\n",
      "20             5.4           3.4            1.7           0.2      Iris-setosa\n",
      "127            6.1           3.0            4.9           1.8   Iris-virginica\n",
      "35             5.0           3.2            1.2           0.2      Iris-setosa\n",
      "123            6.3           2.7            4.9           1.8   Iris-virginica\n",
      "87             6.3           2.3            4.4           1.3  Iris-versicolor\n",
      "1              4.9           3.0            1.4           0.2      Iris-setosa\n"
     ]
    }
   ],
   "source": [
    "from sklearn.model_selection import train_test_split\n",
    "x_train, x_test, y_train, y_test = train_test_split(df_temp, df_temp.Species, random_state=4, test_size=0.2)\n",
    "\n",
    "\n",
    "df = pd.DataFrame(x_train)\n",
    "print(x_test)"
   ]
  },
  {
   "cell_type": "code",
   "execution_count": null,
   "metadata": {},
   "outputs": [],
   "source": []
  },
  {
   "cell_type": "code",
   "execution_count": 7,
   "metadata": {},
   "outputs": [
    {
     "name": "stdout",
     "output_type": "stream",
     "text": [
      "['Iris-setosa', 'Iris-versicolor', 'Iris-virginica']\n",
      "Iris-setosa: 32 / 117 = 0.27350427350427353\n",
      "Iris-versicolor: 43 / 117 = 0.36752136752136755\n",
      "Iris-virginica: 42 / 117 = 0.358974358974359\n"
     ]
    }
   ],
   "source": [
    "print(sorted(df.Species.unique()))\n",
    "print('Iris-setosa:', df.Species[df.Species == 'Iris-setosa'].count(), \"/\", 117, \"=\", df.Species[df.Species == 'Iris-setosa'].count()/117)\n",
    "print('Iris-versicolor:', df.Species[df.Species == 'Iris-versicolor'].count(), \"/\", 117, \"=\", df.Species[df.Species == 'Iris-versicolor'].count()/117)\n",
    "print('Iris-virginica:', df.Species[df.Species == 'Iris-virginica'].count(), \"/\", 117, \"=\", df.Species[df.Species == 'Iris-virginica'].count()/117)\n",
    "\n",
    "p_setosa = df.Species[df.Species == 'Iris-setosa'].count()/117\n",
    "p_versicolor = df.Species[df.Species == 'Iris-versicolor'].count()/117\n",
    "p_virginica = df.Species[df.Species == 'Iris-virginica'].count()/117\n",
    "\n",
    "count_setosa = df.Species[df.Species == 'Iris-setosa'].count()\n",
    "count_versicolor = df.Species[df.Species == 'Iris-versicolor'].count()\n",
    "count_virginica = df.Species[df.Species == 'Iris-virginica'].count()"
   ]
  },
  {
   "cell_type": "code",
   "execution_count": 21,
   "metadata": {},
   "outputs": [
    {
     "name": "stderr",
     "output_type": "stream",
     "text": [
      "C:\\Users\\ojasp\\AppData\\Local\\Programs\\Python\\Python39\\lib\\site-packages\\seaborn\\_decorators.py:36: FutureWarning: Pass the following variables as keyword args: x, y. From version 0.12, the only valid positional argument will be `data`, and passing other arguments without an explicit keyword will result in an error or misinterpretation.\n",
      "  warnings.warn(\n"
     ]
    },
    {
     "data": {
      "text/plain": [
       "<AxesSubplot:xlabel='Species', ylabel='PetalLengthCm'>"
      ]
     },
     "execution_count": 21,
     "metadata": {},
     "output_type": "execute_result"
    },
    {
     "data": {
      "image/png": "[encoded data removed]",
      "text/plain": [
       "<Figure size 432x288 with 1 Axes>"
      ]
     },
     "metadata": {
      "needs_background": "light"
     },
     "output_type": "display_data"
    }
   ],
   "source": [
    "sns.scatterplot(df.Species, df.PetalLengthCm)"
   ]
  },
  {
   "cell_type": "code",
   "execution_count": 22,
   "metadata": {},
   "outputs": [
    {
     "name": "stderr",
     "output_type": "stream",
     "text": [
      "C:\\Users\\ojasp\\AppData\\Local\\Programs\\Python\\Python39\\lib\\site-packages\\seaborn\\_decorators.py:36: FutureWarning: Pass the following variables as keyword args: x, y. From version 0.12, the only valid positional argument will be `data`, and passing other arguments without an explicit keyword will result in an error or misinterpretation.\n",
      "  warnings.warn(\n"
     ]
    },
    {
     "data": {
      "text/plain": [
       "<AxesSubplot:xlabel='Species', ylabel='PetalLengthCm'>"
      ]
     },
     "execution_count": 22,
     "metadata": {},
     "output_type": "execute_result"
    },
    {
     "data": {
      "image/png": "[encoded data removed]",
      "text/plain": [
       "<Figure size 432x288 with 1 Axes>"
      ]
     },
     "metadata": {
      "needs_background": "light"
     },
     "output_type": "display_data"
    }
   ],
   "source": [
    "sns.boxplot(df.Species, df.PetalLengthCm)"
   ]
  },
  {
   "cell_type": "code",
   "execution_count": 23,
   "metadata": {},
   "outputs": [
    {
     "name": "stderr",
     "output_type": "stream",
     "text": [
      "C:\\Users\\ojasp\\AppData\\Local\\Programs\\Python\\Python39\\lib\\site-packages\\seaborn\\_decorators.py:36: FutureWarning: Pass the following variables as keyword args: x, y. From version 0.12, the only valid positional argument will be `data`, and passing other arguments without an explicit keyword will result in an error or misinterpretation.\n",
      "  warnings.warn(\n"
     ]
    },
    {
     "data": {
      "text/plain": [
       "<AxesSubplot:xlabel='Species', ylabel='PetalWidthCm'>"
      ]
     },
     "execution_count": 23,
     "metadata": {},
     "output_type": "execute_result"
    },
    {
     "data": {
      "image/png": "[encoded data removed]",
      "text/plain": [
       "<Figure size 432x288 with 1 Axes>"
      ]
     },
     "metadata": {
      "needs_background": "light"
     },
     "output_type": "display_data"
    }
   ],
   "source": [
    "sns.scatterplot(df.Species, df.PetalWidthCm)"
   ]
  },
  {
   "cell_type": "code",
   "execution_count": 24,
   "metadata": {},
   "outputs": [
    {
     "name": "stderr",
     "output_type": "stream",
     "text": [
      "C:\\Users\\ojasp\\AppData\\Local\\Programs\\Python\\Python39\\lib\\site-packages\\seaborn\\_decorators.py:36: FutureWarning: Pass the following variables as keyword args: x, y. From version 0.12, the only valid positional argument will be `data`, and passing other arguments without an explicit keyword will result in an error or misinterpretation.\n",
      "  warnings.warn(\n"
     ]
    },
    {
     "data": {
      "text/plain": [
       "<AxesSubplot:xlabel='Species', ylabel='PetalWidthCm'>"
      ]
     },
     "execution_count": 24,
     "metadata": {},
     "output_type": "execute_result"
    },
    {
     "data": {
      "image/png": "[encoded data removed]",
      "text/plain": [
       "<Figure size 432x288 with 1 Axes>"
      ]
     },
     "metadata": {
      "needs_background": "light"
     },
     "output_type": "display_data"
    }
   ],
   "source": [
    "sns.boxplot(df.Species, df.PetalWidthCm)"
   ]
  },
  {
   "cell_type": "code",
   "execution_count": 25,
   "metadata": {},
   "outputs": [
    {
     "name": "stderr",
     "output_type": "stream",
     "text": [
      "C:\\Users\\ojasp\\AppData\\Local\\Programs\\Python\\Python39\\lib\\site-packages\\seaborn\\_decorators.py:36: FutureWarning: Pass the following variables as keyword args: x, y. From version 0.12, the only valid positional argument will be `data`, and passing other arguments without an explicit keyword will result in an error or misinterpretation.\n",
      "  warnings.warn(\n"
     ]
    },
    {
     "data": {
      "text/plain": [
       "<AxesSubplot:xlabel='Species', ylabel='SepalLengthCm'>"
      ]
     },
     "execution_count": 25,
     "metadata": {},
     "output_type": "execute_result"
    },
    {
     "data": {
      "image/png": "[encoded data removed]",
      "text/plain": [
       "<Figure size 432x288 with 1 Axes>"
      ]
     },
     "metadata": {
      "needs_background": "light"
     },
     "output_type": "display_data"
    }
   ],
   "source": [
    "sns.scatterplot(df.Species, df.SepalLengthCm)"
   ]
  },
  {
   "cell_type": "code",
   "execution_count": 26,
   "metadata": {},
   "outputs": [
    {
     "name": "stderr",
     "output_type": "stream",
     "text": [
      "C:\\Users\\ojasp\\AppData\\Local\\Programs\\Python\\Python39\\lib\\site-packages\\seaborn\\_decorators.py:36: FutureWarning: Pass the following variables as keyword args: x, y. From version 0.12, the only valid positional argument will be `data`, and passing other arguments without an explicit keyword will result in an error or misinterpretation.\n",
      "  warnings.warn(\n"
     ]
    },
    {
     "data": {
      "text/plain": [
       "<AxesSubplot:xlabel='Species', ylabel='SepalLengthCm'>"
      ]
     },
     "execution_count": 26,
     "metadata": {},
     "output_type": "execute_result"
    },
    {
     "data": {
      "image/png": "[encoded data removed]",
      "text/plain": [
       "<Figure size 432x288 with 1 Axes>"
      ]
     },
     "metadata": {
      "needs_background": "light"
     },
     "output_type": "display_data"
    }
   ],
   "source": [
    "sns.scatterplot(df.Species, df.SepalLengthCm)"
   ]
  },
  {
   "cell_type": "code",
   "execution_count": 27,
   "metadata": {},
   "outputs": [
    {
     "name": "stderr",
     "output_type": "stream",
     "text": [
      "C:\\Users\\ojasp\\AppData\\Local\\Programs\\Python\\Python39\\lib\\site-packages\\seaborn\\_decorators.py:36: FutureWarning: Pass the following variables as keyword args: x, y. From version 0.12, the only valid positional argument will be `data`, and passing other arguments without an explicit keyword will result in an error or misinterpretation.\n",
      "  warnings.warn(\n"
     ]
    },
    {
     "data": {
      "text/plain": [
       "<AxesSubplot:xlabel='Species', ylabel='SepalWidthCm'>"
      ]
     },
     "execution_count": 27,
     "metadata": {},
     "output_type": "execute_result"
    },
    {
     "data": {
      "image/png": "[encoded data removed]",
      "text/plain": [
       "<Figure size 432x288 with 1 Axes>"
      ]
     },
     "metadata": {
      "needs_background": "light"
     },
     "output_type": "display_data"
    }
   ],
   "source": [
    "sns.scatterplot(df.Species, df.SepalWidthCm)"
   ]
  },
  {
   "cell_type": "code",
   "execution_count": 28,
   "metadata": {},
   "outputs": [
    {
     "name": "stderr",
     "output_type": "stream",
     "text": [
      "C:\\Users\\ojasp\\AppData\\Local\\Programs\\Python\\Python39\\lib\\site-packages\\seaborn\\_decorators.py:36: FutureWarning: Pass the following variables as keyword args: x, y. From version 0.12, the only valid positional argument will be `data`, and passing other arguments without an explicit keyword will result in an error or misinterpretation.\n",
      "  warnings.warn(\n"
     ]
    },
    {
     "data": {
      "text/plain": [
       "<AxesSubplot:xlabel='Species', ylabel='SepalWidthCm'>"
      ]
     },
     "execution_count": 28,
     "metadata": {},
     "output_type": "execute_result"
    },
    {
     "data": {
      "image/png": "[encoded data removed]",
      "text/plain": [
       "<Figure size 432x288 with 1 Axes>"
      ]
     },
     "metadata": {
      "needs_background": "light"
     },
     "output_type": "display_data"
    }
   ],
   "source": [
    "sns.boxplot(df.Species, df.SepalWidthCm)"
   ]
  },
  {
   "cell_type": "code",
   "execution_count": 12,
   "metadata": {},
   "outputs": [],
   "source": [
    "dataDict = {\n",
    "\t'PetalLengthCm': {},\n",
    "\t'PetalWidthCm': {},\n",
    "\t'SepalLengthCm': {}, \n",
    "\t'SepalWidthCm': {}\n",
    "\t}"
   ]
  },
  {
   "cell_type": "code",
   "execution_count": 13,
   "metadata": {},
   "outputs": [
    {
     "name": "stdout",
     "output_type": "stream",
     "text": [
      "{'PetalLengthCm': {'1-2': [1, 0, 0], '2-3': [0, 0, 0], '3-4': [0, 1, 0], '4-5': [0, 4, 0], '5-6': [0, 1, 3], '6-7': [0, 0, 2], '7-8': [0, 0, 0]}, 'PetalWidthCm': {}, 'SepalLengthCm': {}, 'SepalWidthCm': {}}\n"
     ]
    }
   ],
   "source": [
    "for i in range(1, 8):\n",
    "\tx = len(df[(df.PetalLengthCm.isin(range(i, i+1))) & (df.Species == 'Iris-setosa')])\n",
    "\tdataDict['PetalLengthCm'][f'{i}-{i+1}'] = list()\n",
    "\tdataDict['PetalLengthCm'][f'{i}-{i+1}'].append(x)\n",
    "\tx = len(df[(df.PetalLengthCm.isin(range(i, i+1))) & (df.Species == 'Iris-versicolor')])\n",
    "\tdataDict['PetalLengthCm'][f'{i}-{i+1}'].append(x)\n",
    "\tx = len(df[(df.PetalLengthCm.isin(range(i, i+1))) & (df.Species == 'Iris-virginica')])\n",
    "\tdataDict['PetalLengthCm'][f'{i}-{i+1}'].append(x)\n",
    "\n",
    "print(dataDict)"
   ]
  },
  {
   "cell_type": "code",
   "execution_count": 14,
   "metadata": {},
   "outputs": [
    {
     "name": "stdout",
     "output_type": "stream",
     "text": [
      "{'PetalLengthCm': {'1-2': [1, 0, 0], '2-3': [0, 0, 0], '3-4': [0, 1, 0], '4-5': [0, 4, 0], '5-6': [0, 1, 3], '6-7': [0, 0, 2], '7-8': [0, 0, 0]}, 'PetalWidthCm': {'0.0-0.5': [25, 0, 0], '0.5-1.0': [2, 0, 0], '1.0-1.5': [0, 7, 0], '1.5-2.0': [0, 13, 2], '2.0-2.5': [0, 0, 13]}, 'SepalLengthCm': {'4.0-4.5': [0, 0, 0], '4.5-5.0': [5, 0, 0], '5.0-5.5': [11, 2, 0], '5.5-6.0': [1, 8, 1], '6.0-6.5': [0, 7, 3], '6.5-7.0': [0, 3, 4], '7.0-7.5': [0, 1, 1], '7.5-8.0': [0, 0, 1]}, 'SepalWidthCm': {'0.0-0.5': [0, 0, 0], '0.5-1.0': [0, 0, 0], '1.0-1.5': [0, 0, 0], '1.5-2.0': [0, 0, 0], '2.0-2.5': [0, 2, 1]}}\n"
     ]
    }
   ],
   "source": [
    "for i in np.arange(0, 2.5, 0.5):\n",
    "\tx = len(df[(df.PetalWidthCm.isin(np.arange(i, i+0.5, 0.1))) & (df.Species == 'Iris-setosa')])\n",
    "\tdataDict['PetalWidthCm'][f'{i}-{i+0.5}'] = list()\n",
    "\tdataDict['PetalWidthCm'][f'{i}-{i+0.5}'].append(x)\n",
    "\tx = len(df[(df.PetalWidthCm.isin(np.arange(i, i+0.5, 0.1))) & (df.Species == 'Iris-versicolor')])\n",
    "\tdataDict['PetalWidthCm'][f'{i}-{i+0.5}'].append(x)\n",
    "\tx = len(df[(df.PetalWidthCm.isin(np.arange(i, i+0.5, 0.1))) & (df.Species == 'Iris-virginica')])\n",
    "\tdataDict['PetalWidthCm'][f'{i}-{i+0.5}'].append(x)\n",
    "for i in np.arange(4, 8, 0.5):\n",
    "\tx = len(df[(df.SepalLengthCm.isin(np.arange(i, i+0.5, 0.1))) & (df.Species == 'Iris-setosa')])\n",
    "\tdataDict['SepalLengthCm'][f'{i}-{i+0.5}'] = list()\n",
    "\tdataDict['SepalLengthCm'][f'{i}-{i+0.5}'].append(x)\n",
    "\tx = len(df[(df.SepalLengthCm.isin(np.arange(i, i+0.5, 0.1))) & (df.Species == 'Iris-versicolor')])\n",
    "\tdataDict['SepalLengthCm'][f'{i}-{i+0.5}'].append(x)\n",
    "\tx = len(df[(df.SepalLengthCm.isin(np.arange(i, i+0.5, 0.1))) & (df.Species == 'Iris-virginica')])\n",
    "\tdataDict['SepalLengthCm'][f'{i}-{i+0.5}'].append(x)\n",
    "for i in np.arange(0, 2.5, 0.5):\n",
    "\tx = len(df[(df.SepalWidthCm.isin(np.arange(i, i+0.5, 0.1))) & (df.Species == 'Iris-setosa')])\n",
    "\tdataDict['SepalWidthCm'][f'{i}-{i+0.5}'] = list()\n",
    "\tdataDict['SepalWidthCm'][f'{i}-{i+0.5}'].append(x)\n",
    "\tx = len(df[(df.SepalWidthCm.isin(np.arange(i, i+0.5, 0.1))) & (df.Species == 'Iris-versicolor')])\n",
    "\tdataDict['SepalWidthCm'][f'{i}-{i+0.5}'].append(x)\n",
    "\tx = len(df[(df.SepalWidthCm.isin(np.arange(i, i+0.5, 0.1))) & (df.Species == 'Iris-virginica')])\n",
    "\tdataDict['SepalWidthCm'][f'{i}-{i+0.5}'].append(x)\n",
    "print(dataDict)"
   ]
  },
  {
   "cell_type": "code",
   "execution_count": 15,
   "metadata": {},
   "outputs": [
    {
     "name": "stdout",
     "output_type": "stream",
     "text": [
      "\n",
      "petalLength: 5.2, \n",
      "sepallength: 0.2, \n",
      "petalwidth: 7.2, \n",
      "sepalwidth: 1.1\n",
      "\n",
      "1.0 1.5 [0, 0, 0]\n",
      "[0, 1, 3]\n",
      "[0, 0, 13]\n",
      "[0, 0, 0]\n",
      "[0, 0, 0]\n"
     ]
    }
   ],
   "source": [
    "petallength = float(input(\"Enter petal length in cm: \"))\n",
    "sepallength = float(input(\"Enter sepal length in cm: \"))\n",
    "petalwidth = float(input(\"Enter petal width in cm: \"))\n",
    "sepalwidth = float(input(\"Enter sepal width in cm: \"))\n",
    "\n",
    "print(f\"\"\"\n",
    "petalLength: {petallength}, \n",
    "sepallength: {sepallength}, \n",
    "petalwidth: {petalwidth}, \n",
    "sepalwidth: {sepalwidth}\n",
    "\"\"\")\n",
    "\n",
    "\n",
    "if petallength <= 1:\n",
    "\tpetallength = dataDict['PetalLengthCm']['1-2']\n",
    "elif petallength > 8:\n",
    "\tpetallength = dataDict['PetalLengthCm']['7-8']\n",
    "else:\n",
    "\tfor i in range(1, 8):\n",
    "\t\tif petallength > i and petallength <= i+1:\n",
    "\t\t\tpetallength = dataDict['PetalLengthCm'][f'{i}-{i+1}']\n",
    "\t\t\tbreak\n",
    "\n",
    "if sepallength <= 4.0:\n",
    "\tsepallength = dataDict['SepalLengthCm']['4.0-4.5']\n",
    "elif sepallength > 8.0:\n",
    "\tsepallength = dataDict['SepalLengthCm']['7.5-8.0']\n",
    "else:\n",
    "\tfor i in np.arange(4, 8, 0.5):\n",
    "\t\tif sepallength > i and sepallength <= i+1:\n",
    "\t\t\tsepallength = dataDict['SepalLengthCm'][f'{i}-{i+0.5}']\n",
    "\t\t\tbreak\n",
    "\n",
    "if petalwidth <= 0:\n",
    "\tpetalwidth = dataDict['PetalWidthCm']['0.0-0.5']\n",
    "elif petalwidth > 2.5:\n",
    "\tpetalwidth = dataDict['PetalWidthCm']['2.0-2.5']\n",
    "else:\n",
    "\tfor i in np.arange(0, 2.5, 0.5):\n",
    "\t\tif petalwidth > i and petalwidth <= i+0.5:\n",
    "\t\t\tpetalwidth = dataDict['PetalWidthCm'][f'{i}-{i+0.5}']\n",
    "\t\t\tbreak\n",
    "\n",
    "if sepalwidth <= 0:\n",
    "\tsepalwidth = dataDict['SepalWidthCm']['0.0-0.5']\n",
    "elif sepalwidth > 2.5:\n",
    "\tsepalwidth = dataDict['SepalWidthCm']['2.0-2.5']\n",
    "else:\n",
    "\tfor i in np.arange(0, 2.5, 0.5):\n",
    "\t\tif sepalwidth > i and sepalwidth <= i+0.5:\n",
    "\t\t\tsepalwidth = dataDict['SepalWidthCm'][f'{i}-{i+0.5}']\n",
    "\t\t\tprint(i, i+0.5, sepalwidth)\n",
    "\t\t\tbreak\n",
    "\n",
    "print(petallength)\n",
    "print(petalwidth)\n",
    "print(sepallength)\n",
    "print(sepalwidth)"
   ]
  },
  {
   "cell_type": "code",
   "execution_count": 16,
   "metadata": {},
   "outputs": [
    {
     "name": "stdout",
     "output_type": "stream",
     "text": [
      "Iris-setosa\n"
     ]
    }
   ],
   "source": [
    "p_t_by_setosa = (petallength[0] * petalwidth[0] * sepallength[0] * sepalwidth[0]) / count_setosa ** 4\n",
    "p_t_by_versicolor = (petallength[1] * petalwidth[1] * sepallength[1] * sepalwidth[1]) / count_versicolor ** 4\n",
    "p_t_by_virginica = (petallength[2] * petalwidth[2] * sepallength[2] * sepalwidth[2]) / count_virginica ** 4\n",
    "\n",
    "likelihood_of_being_setosa = p_setosa * p_t_by_setosa\n",
    "likelihood_of_being_versicolor = p_versicolor * p_t_by_versicolor\n",
    "likelihood_of_being_virginica = p_virginica * p_t_by_virginica\n",
    "\n",
    "p_t = likelihood_of_being_setosa + likelihood_of_being_versicolor + likelihood_of_being_virginica\n",
    "\n",
    "test = max(likelihood_of_being_virginica, likelihood_of_being_setosa, likelihood_of_being_versicolor)\n",
    "\n",
    "if test == likelihood_of_being_setosa:\n",
    "\tprint(\"Iris-setosa\")\n",
    "elif test == likelihood_of_being_versicolor:\n",
    "\tprint(\"Iris-versicolor\")\n",
    "elif test == likelihood_of_being_virginica:\n",
    "\tprint(\"Iris-virginica\")"
   ]
  },
  {
   "cell_type": "code",
   "execution_count": 17,
   "metadata": {},
   "outputs": [],
   "source": [
    "from sklearn.model_selection import train_test_split\n",
    "x_train, x_test, y_train, y_test = train_test_split(df_temp.iloc[:, :4], df_temp.Species, random_state=4, test_size=0.2)"
   ]
  },
  {
   "cell_type": "code",
   "execution_count": 18,
   "metadata": {},
   "outputs": [
    {
     "data": {
      "text/plain": [
       "100.0"
      ]
     },
     "execution_count": 18,
     "metadata": {},
     "output_type": "execute_result"
    }
   ],
   "source": [
    "from sklearn.naive_bayes import GaussianNB\n",
    "from sklearn.metrics import accuracy_score\n",
    "clf = GaussianNB()\n",
    "\n",
    "clf.fit(x_train, y_train)\n",
    "\n",
    "result = clf.predict(x_test)\n",
    "\n",
    "accuracy_score(y_test, result) * 100"
   ]
  }
 ],
 "metadata": {
  "interpreter": {
   "hash": "c3535705770a55d1f82bd01258a88099c792119d686f3a702a91ba44f06888c5"
  },
  "kernelspec": {
   "display_name": "Python 3.9.1 64-bit",
   "name": "python3"
  },
  "language_info": {
   "codemirror_mode": {
    "name": "ipython",
    "version": 3
   },
   "file_extension": ".py",
   "mimetype": "text/x-python",
   "name": "python",
   "nbconvert_exporter": "python",
   "pygments_lexer": "ipython3",
   "version": "3.9.1"
  },
  "orig_nbformat": 4
 },
 "nbformat": 4,
 "nbformat_minor": 2
}
